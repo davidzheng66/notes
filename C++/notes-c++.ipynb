{
  "nbformat": 4,
  "nbformat_minor": 0,
  "metadata": {
    "colab": {
      "name": "Untitled12.ipynb",
      "provenance": [],
      "toc_visible": true,
      "authorship_tag": "ABX9TyOhi8Wp+6tS65pDuIO9iO3T",
      "include_colab_link": true
    },
    "kernelspec": {
      "name": "python3",
      "display_name": "Python 3"
    }
  },
  "cells": [
    {
      "cell_type": "markdown",
      "metadata": {
        "id": "view-in-github",
        "colab_type": "text"
      },
      "source": [
        "<a href=\"https://colab.research.google.com/github/davidzheng66/notes/blob/master/C%2B%2B/notes-c%2B%2B.ipynb\" target=\"_parent\"><img src=\"https://colab.research.google.com/assets/colab-badge.svg\" alt=\"Open In Colab\"/></a>"
      ]
    },
    {
      "cell_type": "markdown",
      "metadata": {
        "id": "lC0V2jfSYvUT"
      },
      "source": [
        "# 1. [gmock-matcher](https://github.com/google/googletest/blob/master/googlemock/docs/cheat_sheet.md#defining-matchers)\r\n",
        "  * [Example 1](https://stackoverflow.com/questions/55547923/google-mocktesting-a-certain-property-of-an-object)\r\n",
        "    * [source code](https://github.com/davidzheng66/notes/blob/master/C%2B%2B/matcherTest.cpp)\r\n",
        "  * [Example 2](https://stackoverflow.com/questions/23938233/gmock-matching-structures)"
      ]
    },
    {
      "cell_type": "markdown",
      "metadata": {
        "id": "c3sOd-lkY4ad"
      },
      "source": [
        "# 2. [Parameterized tests](https://github.com/google/googletest/blob/master/googletest/docs/advanced.md)\r\n",
        "  * [Example 1](https://www.sandordargo.com/blog/2019/04/24/parameterized-testing-with-gtest)\r\n",
        "  * [Example 2](https://stackoverflow.com/questions/8971572/how-to-test-multi-parameter-formula)\r\n",
        "    * [source code](https://github.com/davidzheng66/notes/blob/master/C%2B%2B/parameterizedTest.cpp)"
      ]
    },
    {
      "cell_type": "markdown",
      "metadata": {
        "id": "64RBj3PPZBvP"
      },
      "source": [
        "# 3. [Atomic](https://en.cppreference.com/w/cpp/atomic/atomic)\r\n",
        "  * [video](https://www.youtube.com/watch?v=ZQFzMfHIxng)\r\n",
        "  * Explicit reads and writes\r\n",
        "  ```\r\n",
        "    std::atomic<T> x;\r\n",
        "    T y = x.load; // Same as T y = x;\r\n",
        "    x.store(y); // Same as x = y\r\n",
        "   ```\r\n",
        "  * Atomic exchange:\r\n",
        "  ```\r\n",
        "    T z = x.exchange(y); // Atomically: z = x; x = y;\r\n",
        "  ```\r\n",
        "  * Compare-and-swap (conditional exchange)\r\n",
        "  ```\r\n",
        "    T& y;\r\n",
        "    bool success = x.compare_exchange_strong(y, z);\r\n",
        "    // if x == y, make x = z, and return true\r\n",
        "    // Otherwise, set y = x, and return false\r\n",
        "  ```  "
      ]
    },
    {
      "cell_type": "markdown",
      "metadata": {
        "id": "Bc1t2fSRZF5B"
      },
      "source": [
        "# 4. Check endianess\r\n",
        "* ```\r\n",
        "  bool is_big_endian(){\r\n",
        "    union {\r\n",
        "      uint32_t i;\r\n",
        "      char c[4];\r\n",
        "    } bint = {0x01020304};\r\n",
        "    \r\n",
        "    return bint.c[0] == 1;\r\n",
        "  }\r\n",
        "  ```"
      ]
    },
    {
      "cell_type": "markdown",
      "metadata": {
        "id": "3PPuafoAZYbe"
      },
      "source": [
        "# 5. [CMake Tutorial](https://cmake.org/cmake/help/latest/guide/tutorial/index.html)\r\n",
        "## [CMake source code](https://github.com/Kitware/CMake)\r\n",
        "## [Lecture source code](https://github.com/codetechandtutorials/OurLordAndSavior)\r\n",
        "## [My source code](https://github.com/davidzheng66/cmaketutorial)"
      ]
    },
    {
      "cell_type": "markdown",
      "metadata": {
        "id": "IKph7ynkZxv4"
      },
      "source": [
        "## [Lecture 1 - Understanding the Basics](https://www.youtube.com/watch?v=nlKcXPUJGwA&list=PLalVdRk2RC6o5GHu618ARWh0VO0bFlif4&index=1)\r\n",
        "  * Prerequisites:\r\n",
        "    * gcc\r\n",
        "    * cmake\r\n",
        "  * Create \"CMakeLists.txt\" in cmaketutorial folder with:\r\n",
        "    * CMAKE\r\n",
        "    * Project\r\n",
        "      * _project(gtests)_\r\n",
        "      * _add_executable(${PROJECT_NAME} main.cpp)_\r\n",
        "  * Build and Run:\r\n",
        "    * *mkdir ./out/build*\r\n",
        "    * Navigate to the build folder: *cd ./out/build*\r\n",
        "    * Run: *cmake -S ../../* (--> *cmake --build .*)\r\n",
        "    * Later navigate back to parent folder cmaketutorial\r\n",
        "    * Run: _cmake -S 'Path-to-Source' -B 'Path-to-Build'_ (*cmake -S . -B out/build*)\r\n",
        "    * Build: _make -C out/build_\r\n",
        "    * Run: _out/build/gtests_"
      ]
    },
    {
      "cell_type": "markdown",
      "metadata": {
        "id": "O53t2n9IZ5hr"
      },
      "source": [
        "## [Lecture 2 - Subdirectories and Libraries](https://www.youtube.com/watch?v=kEGQKzhciKc&list=PLalVdRk2RC6o5GHu618ARWh0VO0bFlif4&index=2)\r\n",
        "```\r\n",
        "  add_subdirectory(Adder)\r\n",
        "  target_link_libraries(${PROJECT_NAME} adder)\r\n",
        "  target_include_directories(${PROJECT_NAME} PUBLIC Adder)\r\n",
        "```"
      ]
    },
    {
      "cell_type": "markdown",
      "metadata": {
        "id": "hi5wqL8xZ_oR"
      },
      "source": [
        "## [Lecture 3 - Git Submodules (adding glfw windowing library example)](https://www.youtube.com/watch?v=ED-WUk440qc&list=PLalVdRk2RC6o5GHu618ARWh0VO0bFlif4&index=3)\r\n",
        "* [glfw](https://github.com/glfw/glfw)\r\n",
        "* [google test](https://github.com/google/googletest)\r\n",
        " * git submodule add https://github.com/google/googletest external/gtests"
      ]
    },
    {
      "cell_type": "markdown",
      "metadata": {
        "id": "rEt1zeGgYnhS"
      },
      "source": [
        "## [Lecture 4 -Visioning Source Code](https://www.youtube.com/watch?v=K3bx7NYSXVk&list=PLalVdRk2RC6o5GHu618ARWh0VO0bFlif4&index=4)\r\n",
        "* In CMakeLists.txt add:\r\n",
        "  * _project(cmaketutorial **VERSION 1.0**)_\r\n",
        "* In cmaketutorial_config.h.in add:\r\n",
        "  * _#define CMAKETUTORIAL_VERSION_MAJOR @cmaketutorial_VERSION_MAJOR@_\r\n",
        "  * _#define CMAKETUTORIAL_VERSION_MINOR @cmaketutorial_VERSION_MINOR@_\r\n",
        "* In source file, for example, main.cpp can use these macros:\r\n",
        "  * _CMAKETUTORIAL_VERSION_MAJOR_\r\n",
        "  * _CMAKETUTORIAL_VERSION_MINOR_\r\n",
        "\r\n"
      ]
    },
    {
      "cell_type": "markdown",
      "metadata": {
        "id": "juauK10rKGLb"
      },
      "source": [
        "## [Lecture 5 - Making Libs Optional](https://www.youtube.com/watch?v=BCgnr6Frmmo&list=PLalVdRk2RC6o5GHu618ARWh0VO0bFlif4&index=5)\r\n",
        "* In cmaketutorial_config.h.in: _#cmakedefine USE_ADDER_ "
      ]
    },
    {
      "cell_type": "markdown",
      "metadata": {
        "id": "kdgrfXzrvA7h"
      },
      "source": [
        "## [Lecture 6 - Installing Your Software! (part 1/2 of install)](https://www.youtube.com/watch?v=x7l31sbQDGk&list=PLalVdRk2RC6o5GHu618ARWh0VO0bFlif4&index=6)\r\n",
        "*In CMakeLists.txt of top folder, add:\r\n",
        "  * `install(TARGETS ${PROJECT_NAME} DESTINATION bin)`\r\n",
        "\r\n",
        "  * `install(FILES \"${PROJECT_BINARY_DIR}/cmaketutorial_config.h\" DESTINATION include) `\r\n",
        "\r\n",
        "*In CMakeLists.txt of Adder folder, add:\r\n",
        "  * `install(TARGETS adder DESTINATION lib)`\r\n",
        "  * `install(FILES adder.hpp DESTINATION include)`\r\n",
        "* Run install command:\r\n",
        "  * `cd out/build`\r\n",
        "  * `make install`"
      ]
    },
    {
      "cell_type": "markdown",
      "metadata": {
        "id": "4cIlNPHKM0Nc"
      },
      "source": [
        "# Modern C++"
      ]
    },
    {
      "cell_type": "markdown",
      "metadata": {
        "id": "hydEjyjjQy_U"
      },
      "source": [
        "## [A Tour of Modern C++](https://www.youtube.com/watch?v=iWvcoIKSaoc0)"
      ]
    },
    {
      "cell_type": "markdown",
      "metadata": {
        "id": "tXVIDydPNd9R"
      },
      "source": [
        "## [Design Patterns and Modern C++ - Dmitri Nesteruk](https://www.youtube.com/watch?v=j9arNRRoPe8&t=909s)\r\n",
        "* [Source Code for Webinar](https://github.com/nesteruk/DesignPatternsWebinar)\r\n",
        "* [Source Code for book](https://github.com/Apress/design-patterns-in-modern-cpp)"
      ]
    },
    {
      "cell_type": "markdown",
      "metadata": {
        "id": "Oa6wksRbOR2d"
      },
      "source": [
        "##[Modern C++ Workshop: Peter Sommerlad, Simpler C++ with C++11/14 (Part 1)](https://www.youtube.com/watch?v=BDFrOE0iyBY&list=PL1tk5lGm7zvQOXi24s586pwDF_yseZ-80)"
      ]
    },
    {
      "cell_type": "markdown",
      "metadata": {
        "id": "EAiWvHO5NBoS"
      },
      "source": [
        "## [C++ Design Patterns: From C++03 to C++17 - Fedor Pikus - CppCon 2019](https://www.youtube.com/watch?v=MdtYi0vvct0)"
      ]
    }
  ]
}