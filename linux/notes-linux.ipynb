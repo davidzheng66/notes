{
  "nbformat": 4,
  "nbformat_minor": 0,
  "metadata": {
    "colab": {
      "name": "Untitled11.ipynb",
      "provenance": [],
      "toc_visible": true,
      "authorship_tag": "ABX9TyPejCV9Iu+S18JgSjRM6O9n",
      "include_colab_link": true
    },
    "kernelspec": {
      "name": "python3",
      "display_name": "Python 3"
    }
  },
  "cells": [
    {
      "cell_type": "markdown",
      "metadata": {
        "id": "view-in-github",
        "colab_type": "text"
      },
      "source": [
        "<a href=\"https://colab.research.google.com/github/davidzheng66/notes/blob/master/linux/notes-linux.ipynb\" target=\"_parent\"><img src=\"https://colab.research.google.com/assets/colab-badge.svg\" alt=\"Open In Colab\"/></a>"
      ]
    },
    {
      "cell_type": "markdown",
      "metadata": {
        "id": "zZoLRP8Uz1mc"
      },
      "source": [
        "# 1. Commands\r\n",
        "* [df(Disk Filesystem): check disk space in Linux](https://www.tecmint.com/how-to-check-disk-space-in-linux/)\r\n",
        "   * *df -h*\r\n",
        "* [du(Disk Usage): find disk usage of files and directories](https://www.tecmint.com/check-linux-disk-usage-of-files-and-directories/)\r\n",
        "   * _du -h_\r\n",
        "* [rm(Remove files and folders):](https://www.tecmint.com/linux-rm-command-examples/)\r\n",
        "  * _rm_ FileName _-rf_ (be careful to use this command)\r\n",
        "  * _rm -i_ FileName (safe to use this command)\r\n",
        "* [tar(Tape Archive):](https://www.interserver.net/tips/kb/use-tar-command-linux-examples/)\r\n",
        "  * Create zip file: _tar -czvf_ myfile.tar ./myfolder\r\n",
        "  * Extract zip file: _tar -xzvf_ myfile.tar"
      ]
    },
    {
      "cell_type": "markdown",
      "metadata": {
        "id": "YNDZWAWg0Hw2"
      },
      "source": [
        "# 2. Shortcuts on terminal\r\n",
        "* _Ctrl+Shift+C_: copy highlighted characters\r\n",
        "* _Ctrl+Shift+V_: paste characters in clipboard, or using middle button in the mouse\r\n",
        "* _Ctrl+Shift+N_: create a terminal in a new window\r\n",
        "* _Ctrl+Shift+T_: create a terminal in the same window"
      ]
    },
    {
      "cell_type": "markdown",
      "metadata": {
        "id": "zfWwUIIu0NPW"
      },
      "source": [
        "# 3. Shortcuts on QNX Momentics IDE (Based on Eclipse)\r\n",
        "* Open menu of shortcuts:\r\n",
        "  * _Ctrl+Shift+L_\r\n",
        "  * Windows -> Preferences -> General -> Keys\r\n",
        "* Shift between header and source files: _Ctrl+Tab_\r\n",
        "* Navigate back and forward: _Alt+Left_ and _Alt+Right_\r\n",
        "* Move lines up and down: _Alt+Up_ and _Alt+Down_ \r\n",
        "* Comment/Uncomment: _Ctrl+/_\r\n",
        "* Change font size: _Ctrl++_, _Ctrl+-_"
      ]
    },
    {
      "cell_type": "markdown",
      "metadata": {
        "id": "EIKGSILP0RIM"
      },
      "source": [
        "# 4. Shortcuts on Visual Studio Code\r\n",
        "* Open menu of shortcuts:\r\n",
        "  * _Ctrl+K_ _Ctrl+S_\r\n",
        "  * File -> Preferences -> Keyboard Shortcuts\r\n",
        "* Shift between header and source files: _Alt+O_\r\n",
        "* Navigate back and forward: _Ctrl+Alt+-_ and _Ctrl+Shift+-_\r\n",
        "* Move lines up and down: _Alt+Up_ and _Alt+Down_ \r\n",
        "* Comment/Uncomment: _Ctrl+/_\r\n",
        "* Change font size: _Ctrl++_, _Ctrl+-_"
      ]
    },
    {
      "cell_type": "markdown",
      "metadata": {
        "id": "vF0pABpKzLDe"
      },
      "source": [
        "# 5. [How to use Ubuntu in full screen mode on virtualbox?](https://askubuntu.com/questions/18425/how-to-use-ubuntu-in-full-screen-mode-on-virtualbox)\r\n",
        "- In virtualbox **[Host Key] + F** works for fullscreening.\r\n",
        " - By default your Host key will be **Right Ctrl** in VirtualBox.\r\n",
        " - You can also change your host key,to change your host key open virtualbox and then goto File menu and choose preferences.\r\n",
        " - In preferences choose input,you can see your host key there.\r\n",
        " - You can change it if you need.\r\n",
        " - Also you have to install Guest Additions to enable full screen mode.\r\n",
        "- Installing Guest Additions for full screen\r\n",
        " - Go to **Devices** and choose **Install Guest Additions** on the top of your virtualization window.\r\n",
        " - Open the Guest Additions folder which should be on your Desktop in Ubuntu or in Places menu, and open **autorun.sh** in terminal by double clicking on the autorun.sh file and picking run in Terminal from the pop-up window button options.Type in your password and wait a few minutes to install guest editions.  \r\n",
        " - After installing **Guest Additions** restart your virtual machine(ubuntu). \r\n",
        " - Now you will have better performance and bigger display resolutions.\r\n",
        "\r\n"
      ]
    },
    {
      "cell_type": "markdown",
      "metadata": {
        "id": "U6w5Iijl5k6b"
      },
      "source": [
        "# 6. [Lubuntu](https://lubuntu.net/)\r\n",
        "Lubuntu is a fast and lightweight operating system with a clean and easy-to-use user interface. It is a Linux system, that uses the minimal desktop LXDE/LXQT, and a selection of light applications.\r\n",
        "- 32-bit version, for most PCs older than 2007.\r\n",
        "- For low-RAM (less than 700 MB) PCs use the Alternate versions with a smaller set of applications.\r\n"
      ]
    },
    {
      "cell_type": "markdown",
      "metadata": {
        "id": "0Iw_6nRM63EL"
      },
      "source": [
        "## Installation\r\n",
        "- [Download](https://lubuntu.net/downloads/) the right version of ISO image to Windows 10\r\n",
        "- Use **Power2Go** to burn the ISO image into bootable DVD\r\n",
        "- Turn on PC and configure BIOS to setup DVD as the first Device\r\n",
        "- Insert DVD into DVD drive\r\n",
        "- Follow the instruction to complete the installation\r\n"
      ]
    },
    {
      "cell_type": "markdown",
      "metadata": {
        "id": "Oq3cXZZq8dlE"
      },
      "source": [
        "## Install packages\r\n",
        " - Install net-tools to enable *ifconfig* : *sudo apt install net-tools*\r\n",
        " - Install sshd package: *sudo apt-get install openssh-server*\r\n",
        "  - \"ssh\" will be installed in /etc/init.d\r\n",
        " - Install git package: *sudo apt install git*\r\n",
        " - Install make package: *sudo apt install make*\r\n",
        " - Install make package: *sudo apt install cmake*\r\n",
        "\r\n"
      ]
    },
    {
      "cell_type": "markdown",
      "metadata": {
        "id": "Zen1k_tw-ZTz"
      },
      "source": [
        "## [Check/Enable/Disable SSH server](https://bash.cyberciti.biz/guide/Service_command)\r\n",
        " * *service sshd status*\r\n",
        " * *service sshd start*\r\n",
        " * *service sshd stop*\r\n",
        " * *service sshd restart*\r\n",
        " * Login: **ssh -i** privateKey root@192.168.1.100\r\n",
        " * Copy: **ssh -i** privateKey ./file1 root@192.168.1.100:/tmp\r\n",
        "\r\n",
        "### Install SSH clients\r\n",
        " * [PuTTY Session Manager](https://sourceforge.net/projects/puttysm/)\r\n",
        "   * Installed in \"C:\\Program Files\\PuTTY\" \r\n",
        " * [Multi Putty Manager](https://sourceforge.net/projects/multiputtymanager/)\r\n",
        "  * [Quick Start PDF](https://github.com/davidzheng66/notes/blob/master/linux/MPManager%20Quick%20Start.pdf)  \r\n",
        " * [WinSCP - a free SFTP, SCP, S3, WebDAV, and FTP client for Windows](https://sourceforge.net/projects/winscp/files/latest/download)"
      ]
    },
    {
      "cell_type": "markdown",
      "metadata": {
        "id": "GXLXZnEJAxcp"
      },
      "source": [
        "## Check/Set Monitor Resolution\r\n",
        "- [*xrandr*](https://linuxconfig.org/how-to-configure-your-monitors-with-xrandr-in-linux)"
      ]
    }
  ]
}