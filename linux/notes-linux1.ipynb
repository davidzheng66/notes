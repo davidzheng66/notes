{
  "nbformat": 4,
  "nbformat_minor": 0,
  "metadata": {
    "colab": {
      "name": "Untitled11.ipynb",
      "provenance": [],
      "toc_visible": true,
      "authorship_tag": "ABX9TyN3rkvMhMk5cr0wa9jTLVlJ",
      "include_colab_link": true
    },
    "kernelspec": {
      "name": "python3",
      "display_name": "Python 3"
    }
  },
  "cells": [
    {
      "cell_type": "markdown",
      "metadata": {
        "id": "view-in-github",
        "colab_type": "text"
      },
      "source": [
        "<a href=\"https://colab.research.google.com/github/davidzheng66/notes/blob/master/linux/notes-linux1.ipynb\" target=\"_parent\"><img src=\"https://colab.research.google.com/assets/colab-badge.svg\" alt=\"Open In Colab\"/></a>"
      ]
    },
    {
      "cell_type": "markdown",
      "metadata": {
        "id": "zZoLRP8Uz1mc"
      },
      "source": [
        "# 1. Commands\r\n",
        "* [df(Disk Filesystem): check disk space in Linux](https://www.tecmint.com/how-to-check-disk-space-in-linux/)\r\n",
        "   * *df -h*\r\n",
        "* [du(Disk Usage): find disk usage of files and directories](https://www.tecmint.com/check-linux-disk-usage-of-files-and-directories/)\r\n",
        "   * _du -h_\r\n",
        "* [rm(Remove files and folders):](https://www.tecmint.com/linux-rm-command-examples/)\r\n",
        "  * _rm_ FileName _-rf_ (be careful to use this command)\r\n",
        "  * _rm -i_ FileName (safe to use this command)\r\n",
        "* [tar(Tape Archive):](https://www.interserver.net/tips/kb/use-tar-command-linux-examples/)\r\n",
        "  * Create zip file: _tar -czvf_ myfile.tar ./myfolder\r\n",
        "  * Extract zip file: _tar -xzvf_ myfile.tar"
      ]
    },
    {
      "cell_type": "markdown",
      "metadata": {
        "id": "YNDZWAWg0Hw2"
      },
      "source": [
        "# 2. Shortcuts on terminal\r\n",
        "* _Ctrl+Shift+C_: copy highlighted characters\r\n",
        "* _Ctrl+Shift+V_: paste characters in clipboard, or using middle button in the mouse\r\n",
        "* _Ctrl+Shift+N_: create a terminal in a new window\r\n",
        "* _Ctrl+Shift+T_: create a terminal in the same window"
      ]
    },
    {
      "cell_type": "markdown",
      "metadata": {
        "id": "zfWwUIIu0NPW"
      },
      "source": [
        "# 3. Shortcuts on QNX Momentics IDE (Based on Eclipse)\r\n",
        "* Open menu of shortcuts:\r\n",
        "  * _Ctrl+Shift+L_\r\n",
        "  * Windows -> Preferences -> General -> Keys\r\n",
        "* Shift between header and source files: _Ctrl+Tab_\r\n",
        "* Navigate back and forward: _Alt+Left_ and _Alt+Right_\r\n",
        "* Move lines up and down: _Alt+Up_ and _Alt+Down_ \r\n",
        "* Comment/Uncomment: _Ctrl+/_\r\n",
        "* Change font size: _Ctrl++_, _Ctrl+-_"
      ]
    },
    {
      "cell_type": "markdown",
      "metadata": {
        "id": "EIKGSILP0RIM"
      },
      "source": [
        "# 4. Shortcuts on Visual Studio Code\r\n",
        "* Open menu of shortcuts:\r\n",
        "  * _Ctrl+K_ _Ctrl+S_\r\n",
        "  * File -> Preferences -> Keyboard Shortcuts\r\n",
        "* Shift between header and source files: _Alt+O_\r\n",
        "* Navigate back and forward: _Ctrl+Alt+-_ and _Ctrl+Shift+-_\r\n",
        "* Move lines up and down: _Alt+Up_ and _Alt+Down_ \r\n",
        "* Comment/Uncomment: _Ctrl+/_\r\n",
        "* Change font size: _Ctrl++_, _Ctrl+-_"
      ]
    },
    {
      "cell_type": "markdown",
      "metadata": {
        "id": "vF0pABpKzLDe"
      },
      "source": [
        "# 5. [How to use Ubuntu in full screen mode on virtualbox?](https://askubuntu.com/questions/18425/how-to-use-ubuntu-in-full-screen-mode-on-virtualbox)\r\n",
        "\r\n",
        "\r\n",
        "\r\n"
      ]
    }
  ]
}