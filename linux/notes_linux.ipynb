{
  "nbformat": 4,
  "nbformat_minor": 0,
  "metadata": {
    "colab": {
      "name": "Untitled11.ipynb",
      "provenance": [],
      "toc_visible": true,
      "authorship_tag": "ABX9TyOSVVBlKPXdsY8YFWTLQwIh",
      "include_colab_link": true
    },
    "kernelspec": {
      "name": "python3",
      "display_name": "Python 3"
    }
  },
  "cells": [
    {
      "cell_type": "markdown",
      "metadata": {
        "id": "view-in-github",
        "colab_type": "text"
      },
      "source": [
        "<a href=\"https://colab.research.google.com/github/davidzheng66/notes/blob/master/linux/notes_linux.ipynb\" target=\"_parent\"><img src=\"https://colab.research.google.com/assets/colab-badge.svg\" alt=\"Open In Colab\"/></a>"
      ]
    },
    {
      "cell_type": "markdown",
      "metadata": {
        "id": "zZoLRP8Uz1mc"
      },
      "source": [
        "# 1. Commands\n",
        "* [grep](https://www.tutorialspoint.com/unix_commands/grep.htm)\n",
        "  * grep keyword -rwn: *grep hello -rwn*\n",
        "* [find](https://www.tutorialspoint.com/unix_commands/find.htm)\n",
        "  * find path -name filename: *find . -name file.txt*\n",
        "* [df(Disk Filesystem): check disk space in Linux](https://www.tecmint.com/how-to-check-disk-space-in-linux/)\n",
        "   * *df -h*\n",
        "* [du(Disk Usage): find disk usage of files and directories](https://www.tecmint.com/check-linux-disk-usage-of-files-and-directories/)\n",
        "   * _du -h_\n",
        "* [rm(Remove files and folders):](https://www.tecmint.com/linux-rm-command-examples/)\n",
        "  * _rm_ FileName _-rf_ (be careful to use this command)\n",
        "  * _rm -i_ FileName (safe to use this command)\n",
        "* [tar(Tape Archive):](https://www.interserver.net/tips/kb/use-tar-command-linux-examples/)\n",
        "  * Create zip file: _tar -czvf_ myfile.tar ./myfolder\n",
        "  * Extract zip file: _tar -xzvf_ myfile.tar\n",
        "* lsb_release -a\n",
        "  * Check which version of Lubuntu you're running"
      ]
    },
    {
      "cell_type": "markdown",
      "metadata": {
        "id": "YNDZWAWg0Hw2"
      },
      "source": [
        "# 2. Shortcuts on terminal\n",
        "* _Ctrl+Shift+C_: copy highlighted characters\n",
        "* _Ctrl+Shift+V_: paste characters in clipboard, or using middle button in the mouse\n",
        "* _Ctrl+Shift+N_: create a terminal in a new window\n",
        "* _Ctrl+Shift+T_: create a terminal in the same window"
      ]
    },
    {
      "cell_type": "markdown",
      "metadata": {
        "id": "zfWwUIIu0NPW"
      },
      "source": [
        "# 3. Shortcuts on QNX Momentics IDE (Based on Eclipse)\n",
        "* Open menu of shortcuts:\n",
        "  * _Ctrl+Shift+L_\n",
        "  * Windows -> Preferences -> General -> Keys\n",
        "* Shift between header and source files: _Ctrl+Tab_\n",
        "* Navigate back and forward: _Alt+Left_ and _Alt+Right_\n",
        "* Move lines up and down: _Alt+Up_ and _Alt+Down_ \n",
        "* Comment/Uncomment: _Ctrl+/_\n",
        "* Change font size: _Ctrl++_, _Ctrl+-_"
      ]
    },
    {
      "cell_type": "markdown",
      "metadata": {
        "id": "EIKGSILP0RIM"
      },
      "source": [
        "# 4. [Shortcuts on Visual Studio Code](https://code.visualstudio.com/docs/cpp/config-msvc)\n",
        "* Open menu of shortcuts:\n",
        "  * _Ctrl+K_ _Ctrl+S_\n",
        "  * File -> Preferences -> Keyboard Shortcuts\n",
        "* Shift between header and source files: _Alt+O_\n",
        "* Navigate back and forward: _Ctrl+Alt+-_ and _Ctrl+Shift+-_\n",
        "* Move lines up and down: _Alt+Up_ and _Alt+Down_ \n",
        "* Comment/Uncomment: _Ctrl+/_\n",
        "* Change font size: _Ctrl++_, _Ctrl+-_"
      ]
    },
    {
      "cell_type": "markdown",
      "metadata": {
        "id": "vF0pABpKzLDe"
      },
      "source": [
        "# 5. [How to use Ubuntu in full screen mode on virtualbox?](https://askubuntu.com/questions/18425/how-to-use-ubuntu-in-full-screen-mode-on-virtualbox)\n",
        "- In virtualbox **[Host Key] + F** works for fullscreening.\n",
        " - By default your Host key will be **Right Ctrl** in VirtualBox.\n",
        " - You can also change your host key,to change your host key open virtualbox and then goto File menu and choose preferences.\n",
        " - In preferences choose input,you can see your host key there.\n",
        " - You can change it if you need.\n",
        " - Also you have to install Guest Additions to enable full screen mode.\n",
        "- Installing Guest Additions for full screen\n",
        " - Go to **Devices** and choose **Install Guest Additions** on the top of your virtualization window.\n",
        " - Open the Guest Additions folder which should be on your Desktop in Ubuntu or in Places menu, and open **autorun.sh** in terminal by double clicking on the autorun.sh file and picking run in Terminal from the pop-up window button options.Type in your password and wait a few minutes to install guest editions.  \n",
        " - After installing **Guest Additions** restart your virtual machine(ubuntu). \n",
        " - Now you will have better performance and bigger display resolutions.\n",
        "\n"
      ]
    },
    {
      "cell_type": "markdown",
      "metadata": {
        "id": "U6w5Iijl5k6b"
      },
      "source": [
        "# 6. [Lubuntu](https://lubuntu.net/)\n",
        "Lubuntu is a fast and lightweight operating system with a clean and easy-to-use user interface. It is a Linux system, that uses the minimal desktop LXDE/LXQT, and a selection of light applications.\n",
        "- 32-bit version, for most PCs older than 2007.\n",
        "- For low-RAM (less than 700 MB) PCs use the Alternate versions with a smaller set of applications.\n",
        "\n",
        "## [Releases](http://cdimage.ubuntu.com/lubuntu/releases/)"
      ]
    },
    {
      "cell_type": "markdown",
      "metadata": {
        "id": "0Iw_6nRM63EL"
      },
      "source": [
        "## Installation\n",
        "- [Download](https://lubuntu.net/downloads/) the right version of ISO image to Windows 10 (Lubuntu 18.04)\n",
        "- Use **Power2Go** to burn the ISO image into bootable DVD\n",
        "- Turn on PC and configure BIOS to setup DVD as the first Device\n",
        "- Insert DVD into DVD drive\n",
        "- Follow the instruction to complete the installation\n"
      ]
    },
    {
      "cell_type": "markdown",
      "metadata": {
        "id": "Oq3cXZZq8dlE"
      },
      "source": [
        "## Install packages\n",
        " - Install net-tools to enable *ifconfig* : *sudo apt install net-tools*\n",
        " - Install sshd package: \n",
        "  - *sudo apt-get install openssh-server* or \n",
        "  - *sudo apt install openssh-server*\n",
        "  - \"ssh\" will be installed in /etc/init.d\n",
        " - Install git package: *sudo apt install git*\n",
        " - Install C++ compiler: *sudo apt install g++\"\n",
        " - Install make package: *sudo apt install make*\n",
        " - Install cmake package: *sudo apt install cmake*\n",
        " - Install clang: *sudo apt install clang*\n",
        "   - [Clang Doc](https://clang.llvm.org/docs/index.html#) \n",
        "   - [How to upgrade clang 10](https://blog.kowalczyk.info/article/k/how-to-install-latest-clang-6.0-on-ubuntu-16.04-xenial-wsl.html)\n",
        "     - Update /etc/apt/sources.list; run this or edit file manually to add:\n",
        "      -  ```sudo echo \"deb http://apt.llvm.org/xenial/ llvm-toolchain-xenial-10 main\" >> /etc/apt/sources.list``` or \n",
        "      - ```sudo apt-add-repository \"deb http://apt.llvm.org/xenial/ llvm-toolchain-xenial-10 main\" ```\n",
        "     - Update known package database \n",
        "       - adds package source trust:\n",
        "        - ```wget -O - https://apt.llvm.org/llvm-snapshot.gpg.key | sudo apt-key add -```\n",
        "       - update the package manager database:\n",
        "         - ```sudo apt-get update ```\n",
        "     - Install clang and other things:\n",
        "       - ```sudo apt-get install -y clang-10 clang-tidy-10 clang-format-10 parallel ```\n",
        "     - Check if clang 10 is installed: \n",
        "       - ```ll /usr/lib/llvm-10```\n",
        "     - If previous version of clang was installed - you may need to switch the clang symlink to point to this newest version\n",
        "       - ``` sudo ln -sf /usr/lib/llvm-10/bin/clang /usr/bin/clang```\n",
        "       - ```sudo ln -sf /usr/lib/llvm-10/bin/clang++ /usr/bin/clang++``` \n",
        "       - ```sudo ln -sf /usr/bin/clang-tidy-10 /usr/bin/clang-tidy```\n",
        "       - ```sudo ln -sf /usr/bin/clang-format-10 /usr/bin/clang-format```\n",
        "    - Check clang version: \n",
        "       - ```clang --version```\n",
        " - Install Visual Studio Code(64-bit for Linux):\n",
        "   - [Install snap](https://snapcraft.io/docs/installing-snap-on-lubuntu)\n",
        "     - *sudo apt update*\n",
        "     - *sudo apt install snapd*\n",
        "     - Either log out and back in again, or restart your system, to ensure snap’s paths are updated correctly\n",
        "     - To test your system, install the hello-world snap and make sure it runs correctly\n",
        "       - *sudo snap install hello-world*\n",
        "       - *hello-world*\n",
        "  - [Install Visual Studio Code](https://code.visualstudio.com/docs/setup/linux)\n",
        "    - sudo snap install --classic code # or code-insiders\n",
        "\n",
        "  \n",
        "\n"
      ]
    },
    {
      "cell_type": "markdown",
      "metadata": {
        "id": "Zen1k_tw-ZTz"
      },
      "source": [
        "## [Check/Enable/Disable SSH server](https://bash.cyberciti.biz/guide/Service_command)\n",
        " * *service sshd status*\n",
        " * *service sshd start*\n",
        " * *service sshd stop*\n",
        " * *service sshd restart*\n",
        " * Login: **ssh -i** privateKey root@192.168.1.100\n",
        " * Copy: **scp -i** privateKey ./file1 root@192.168.1.100:/tmp\n",
        "\n",
        "### Install SSH clients\n",
        " * [PuTTY Session Manager](https://sourceforge.net/projects/puttysm/)\n",
        "   * Installed in \"C:\\Program Files\\PuTTY\" \n",
        " * [Multi Putty Manager](https://sourceforge.net/projects/multiputtymanager/)\n",
        "  * [Quick Start PDF](https://github.com/davidzheng66/notes/blob/master/linux/MPManager%20Quick%20Start.pdf)  \n",
        " * [WinSCP - a free SFTP, SCP, S3, WebDAV, and FTP client for Windows](https://sourceforge.net/projects/winscp/files/latest/download)"
      ]
    },
    {
      "cell_type": "markdown",
      "metadata": {
        "id": "GXLXZnEJAxcp"
      },
      "source": [
        "## Check/Set Monitor Resolution\n",
        "- [*xrandr*](https://linuxconfig.org/how-to-configure-your-monitors-with-xrandr-in-linux)"
      ]
    },
    {
      "cell_type": "markdown",
      "metadata": {
        "id": "rAuEYJAqGEwz"
      },
      "source": [
        "# [Check/Set Keyboard Layout](https://askubuntu.com/questions/209597/how-do-i-change-keyboards-from-the-command-line)\n",
        "- setxkbmap\n",
        "  - Check current keybout layout: *setxkbmap -query* \n",
        "  - Use US keyboard layout: *setxkbmap us*"
      ]
    },
    {
      "cell_type": "markdown",
      "metadata": {
        "id": "JxY7zO9DFra8"
      },
      "source": [
        "# [sed command](https://www.geeksforgeeks.org/sed-command-in-linux-unix-with-examples/)"
      ]
    },
    {
      "cell_type": "markdown",
      "metadata": {
        "id": "8clYFmjIGq2U"
      },
      "source": [
        "## Replace all tabs in the cpp and hpp files in the project with 4-spaces"
      ]
    },
    {
      "cell_type": "code",
      "metadata": {
        "id": "hR6AHH7tF9-s"
      },
      "source": [
        "find . -iname '.cpp' -type f -exec sed -i 's/\\t/ /g' {} +\n",
        "find . -iname '.hpp' -type f -exec sed -i 's/\\t/ /g' {} +"
      ],
      "execution_count": null,
      "outputs": []
    }
  ]
}