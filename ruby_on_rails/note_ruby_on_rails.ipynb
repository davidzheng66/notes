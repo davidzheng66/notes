{
  "nbformat": 4,
  "nbformat_minor": 0,
  "metadata": {
    "colab": {
      "name": "Untitled13.ipynb",
      "provenance": [],
      "authorship_tag": "ABX9TyOFfuA7AmKXBFEcBdWFZ6Jl",
      "include_colab_link": true
    },
    "kernelspec": {
      "name": "python3",
      "display_name": "Python 3"
    }
  },
  "cells": [
    {
      "cell_type": "markdown",
      "metadata": {
        "id": "view-in-github",
        "colab_type": "text"
      },
      "source": [
        "<a href=\"https://colab.research.google.com/github/davidzheng66/notes/blob/master/ruby_on_rails/note_ruby_on_rails.ipynb\" target=\"_parent\"><img src=\"https://colab.research.google.com/assets/colab-badge.svg\" alt=\"Open In Colab\"/></a>"
      ]
    },
    {
      "cell_type": "markdown",
      "metadata": {
        "id": "GTlc8OHievDL"
      },
      "source": [
        "# [Learn Ruby on Rails - John Elder](https://guides.rubyonrails.org/getting_started.html)\r\n",
        "Ruby on Rails is a is a server-side web application framework used for creating full stack web apps.\r\n",
        "## [Video](https://www.youtube.com/watch?v=fmyvWz5TUWg)\r\n",
        "## [Source Code](https://github.com/flatplanet/railsfriends)\r\n",
        "## Table Of Contents:\r\n",
        "* [⌨️ (0:00:00) Introduction and Installation](#installation)\r\n",
        "* ⌨️ (0:28:12) First Webpage and MVC Overview\r\n",
        "* ⌨️ (0:42:41) Application Partial Links and New Pages\r\n",
        "* ⌨️ (1:03:17) CRUD Scaffold\r\n",
        "* ⌨️ (1:21:33) Style App with Bootstrap\r\n",
        "* ⌨️ (2:02:15) Style Devise Views\r\n",
        "* ⌨️ (2:26:39) Associations\r\n",
        "* ⌨️ (2:45:41) More Associations\r\n",
        "* ⌨️ (3:06:34) Style Modifications\r\n",
        "* ⌨️ (3:21:57) Fun With the Controller\r\n",
        "* ⌨️ (3:30:17) Git, GitHub, and Heroku\r\n",
        "\r\n",
        "## Installation in Windows<a name=\"installation\"></a>\r\n",
        "* [node.js](https://nodejs.org/en/download/) \r\n",
        "* [yarn](https://classic.yarnpkg.com/en/docs/install#windows-stable)\r\n",
        "* [git bash](https://git-scm.com/downloads)\r\n",
        "  * Start git bash\r\n",
        "* [Install Ruby and Rails](http://railsinstaller.org/en)\r\n",
        "  * Download Ruby 2.3 for Windows and install it\r\n",
        "  * Download [Ruby Installer: Ruby+Devkit 2.7.2-1(x64)](https://rubyinstaller.org/downloads/) to upgrade Ruby version from 2.3.3 to 2.7.2\r\n",
        "  * Run -gem install rails- to upgrade Rails version from 5.1.3 to 6.1.1\r\n"
      ]
    }
  ]
}